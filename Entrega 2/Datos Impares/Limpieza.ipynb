{
 "cells": [
  {
   "cell_type": "code",
   "execution_count": 1,
   "id": "d20311c0",
   "metadata": {},
   "outputs": [
    {
     "name": "stdout",
     "output_type": "stream",
     "text": [
      "Requirement already satisfied: pandas in /Library/Frameworks/Python.framework/Versions/3.8/lib/python3.8/site-packages (1.5.1)\n",
      "Requirement already satisfied: python-dateutil>=2.8.1 in /Library/Frameworks/Python.framework/Versions/3.8/lib/python3.8/site-packages (from pandas) (2.8.2)\n",
      "Requirement already satisfied: pytz>=2020.1 in /Library/Frameworks/Python.framework/Versions/3.8/lib/python3.8/site-packages (from pandas) (2022.5)\n",
      "Requirement already satisfied: numpy>=1.20.3 in /Library/Frameworks/Python.framework/Versions/3.8/lib/python3.8/site-packages (from pandas) (1.23.4)\n",
      "Requirement already satisfied: six>=1.5 in /Library/Frameworks/Python.framework/Versions/3.8/lib/python3.8/site-packages (from python-dateutil>=2.8.1->pandas) (1.16.0)\n",
      "\u001b[33mWARNING: You are using pip version 22.0.4; however, version 22.3 is available.\n",
      "You should consider upgrading via the '/Library/Frameworks/Python.framework/Versions/3.8/bin/python3 -m pip install --upgrade pip' command.\u001b[0m\u001b[33m\n",
      "\u001b[0mNote: you may need to restart the kernel to use updated packages.\n"
     ]
    }
   ],
   "source": [
    "pip install pandas"
   ]
  },
  {
   "cell_type": "code",
   "execution_count": 2,
   "id": "86304219",
   "metadata": {},
   "outputs": [
    {
     "ename": "NameError",
     "evalue": "name 'pd' is not defined",
     "output_type": "error",
     "traceback": [
      "\u001b[0;31m---------------------------------------------------------------------------\u001b[0m",
      "\u001b[0;31mNameError\u001b[0m                                 Traceback (most recent call last)",
      "Input \u001b[0;32mIn [2]\u001b[0m, in \u001b[0;36m<cell line: 1>\u001b[0;34m()\u001b[0m\n\u001b[0;32m----> 1\u001b[0m \u001b[43mpd\u001b[49m\u001b[38;5;241m.\u001b[39mset_option(\u001b[38;5;124m'\u001b[39m\u001b[38;5;124mdisplay.max_rows\u001b[39m\u001b[38;5;124m'\u001b[39m, \u001b[38;5;241m20\u001b[39m)\n",
      "\u001b[0;31mNameError\u001b[0m: name 'pd' is not defined"
     ]
    }
   ],
   "source": [
    "pd.set_option('display.max_rows', 20)"
   ]
  },
  {
   "cell_type": "code",
   "execution_count": null,
   "id": "0bb53226",
   "metadata": {},
   "outputs": [],
   "source": [
    "import pandas as pd\n",
    "\n",
    "df_artistas = pd.read_csv(\"Artistas.csv\")\n",
    "\n",
    "df_artistas['Nombre artistico'].value_counts()\n",
    "\n",
    "df_artistas_limpio = df_artistas.drop_duplicates()\n",
    "\n",
    "df_artistas_limpio['Nombre artistico'].value_counts()\n",
    "\n",
    "df_artistas_limpio = df_artistas_limpio.rename(columns={\"Nº contacto\": \"Numero_contacto\", \"Nombre artistico\":\"nombre_artistico\",\"Inicio carrera\":\"inicio_carrera\"})\n",
    "\n",
    "df_artistas_limpio = df_artistas_limpio.reset_index()\n",
    "df_artistas_limpio = df_artistas_limpio.rename_axis('id_artista')\n",
    "df_artistas_limpio = df_artistas_limpio.drop(columns=['index'])\n",
    "df_artistas_limpio"
   ]
  },
  {
   "cell_type": "code",
   "execution_count": null,
   "id": "e19090a5",
   "metadata": {},
   "outputs": [],
   "source": [
    "df_artistas_limpio.to_csv('Artistas_limpio.csv', index = True)"
   ]
  },
  {
   "cell_type": "code",
   "execution_count": null,
   "id": "ca4ec03b",
   "metadata": {},
   "outputs": [],
   "source": [
    "archivo = 'Productoras.csv'\n",
    "df_productoras = pd.read_csv(archivo)\n",
    "df_productoras.head()"
   ]
  },
  {
   "cell_type": "code",
   "execution_count": null,
   "id": "9bc6c248",
   "metadata": {},
   "outputs": [],
   "source": [
    "df_productoras_limpio = df_productoras.rename(columns={\"Nº contacto\": \"Numero_contacto\", \"País\": \"Pais\"})\n",
    "df_productoras_limpio.head()"
   ]
  },
  {
   "cell_type": "code",
   "execution_count": null,
   "id": "e8355f72",
   "metadata": {},
   "outputs": [],
   "source": [
    "df_productoras_limpio.value_counts()\n",
    "df_productoras_limpio = df_productoras_limpio.drop_duplicates()\n",
    "df_productoras_limpio.value_counts()"
   ]
  },
  {
   "cell_type": "code",
   "execution_count": null,
   "id": "5024084a",
   "metadata": {},
   "outputs": [],
   "source": [
    "df_productoras_limpio = df_productoras_limpio.reset_index()\n",
    "df_productoras_limpio = df_productoras_limpio.rename_axis('id_productora')\n",
    "df_productoras_limpio = df_productoras_limpio.drop(columns=['index'])\n",
    "df_productoras_limpio.head()"
   ]
  },
  {
   "cell_type": "code",
   "execution_count": null,
   "id": "a68c9bc5",
   "metadata": {},
   "outputs": [],
   "source": [
    "df_productoras_limpio.to_csv('Productoras_limpio.csv', index = True)"
   ]
  },
  {
   "cell_type": "code",
   "execution_count": null,
   "id": "600c4f81",
   "metadata": {},
   "outputs": [],
   "source": [
    "archivo = 'Tour.csv'\n",
    "df_tour = pd.read_csv(archivo)\n",
    "df_tour.head()"
   ]
  },
  {
   "cell_type": "code",
   "execution_count": null,
   "id": "af521a6c",
   "metadata": {},
   "outputs": [],
   "source": [
    "df_tour.value_counts()\n",
    "df_tour_limpio = df_tour.drop_duplicates()\n",
    "df_tour_limpio.value_counts()"
   ]
  },
  {
   "cell_type": "code",
   "execution_count": null,
   "id": "4326e193",
   "metadata": {},
   "outputs": [],
   "source": [
    "df_tour_limpio = df_tour_limpio.reset_index()\n",
    "df_tour_limpio = df_tour_limpio.rename_axis('id_tour')\n",
    "df_tour_limpio = df_tour_limpio.drop(columns=['index'])\n",
    "df_tour_limpio = df_tour_limpio.rename(columns={\"fecha inicio\": \"fecha_inicio\", \"fecha termino\": \"fecha_termino\"})\n",
    "df_tour_limpio.head()"
   ]
  },
  {
   "cell_type": "code",
   "execution_count": null,
   "id": "aae4e0f7",
   "metadata": {},
   "outputs": [],
   "source": [
    "df_tour_limpio.to_csv('Tour_limpio.csv', index = True)"
   ]
  },
  {
   "cell_type": "code",
   "execution_count": null,
   "id": "229a6cd7",
   "metadata": {},
   "outputs": [],
   "source": [
    "archivo = 'Eventos.csv'\n",
    "df_eventos = pd.read_csv(archivo)\n",
    "df_eventos.head()"
   ]
  },
  {
   "cell_type": "code",
   "execution_count": null,
   "id": "8f1244c6",
   "metadata": {},
   "outputs": [],
   "source": [
    "df_eventos.value_counts()\n",
    "df_eventos_limpio = df_eventos.drop_duplicates()\n",
    "df_eventos_limpio.value_counts()"
   ]
  },
  {
   "cell_type": "code",
   "execution_count": null,
   "id": "7e86fb6b",
   "metadata": {},
   "outputs": [],
   "source": [
    "df_eventos_limpio = df_eventos_limpio.reset_index()\n",
    "df_eventos_limpio = df_eventos_limpio.rename_axis('id_evento')\n",
    "df_eventos_limpio = df_eventos_limpio.drop(columns=['index'])\n",
    "df_eventos_limpio.head()"
   ]
  },
  {
   "cell_type": "code",
   "execution_count": null,
   "id": "00b58c16",
   "metadata": {},
   "outputs": [],
   "source": [
    "df_eventos_limpio[df_eventos_limpio['Productora'] == 'Expat']"
   ]
  },
  {
   "cell_type": "code",
   "execution_count": null,
   "id": "34387e13",
   "metadata": {},
   "outputs": [],
   "source": [
    "df_eventos_limpio.head()\n"
   ]
  },
  {
   "cell_type": "code",
   "execution_count": null,
   "id": "6adf9deb",
   "metadata": {},
   "outputs": [],
   "source": [
    "df_productoras_limpio"
   ]
  },
  {
   "cell_type": "code",
   "execution_count": null,
   "id": "c16e2834",
   "metadata": {},
   "outputs": [],
   "source": [
    "df_productoras_limpio[df_productoras_limpio['Nombre'] == 'Expat']\n"
   ]
  },
  {
   "cell_type": "code",
   "execution_count": null,
   "id": "edfbf073",
   "metadata": {},
   "outputs": [],
   "source": [
    "def get_productora_id(nombre, pais):\n",
    "    if pais == 'AUTRALIA':\n",
    "        pais = \"AUSTRALIA\"\n",
    "    return df_productoras_limpio.index[(df_productoras_limpio['Nombre'] == nombre) & (df_productoras_limpio['Pais'] == pais)].tolist()[0]\n",
    "def add_productora_id(row):\n",
    "    id_prod = get_productora_id(row[\"Productora\"], row[\"Pais\"])\n",
    "    return id_prod"
   ]
  },
  {
   "cell_type": "code",
   "execution_count": null,
   "id": "6408e965",
   "metadata": {},
   "outputs": [],
   "source": [
    "productora_id('Expat', \"AUSTRALIA\")"
   ]
  },
  {
   "cell_type": "code",
   "execution_count": null,
   "id": "da696d2e",
   "metadata": {},
   "outputs": [],
   "source": [
    "df_eventos_limpio[['Productora','Pais']]"
   ]
  },
  {
   "cell_type": "code",
   "execution_count": null,
   "id": "c5ad7b56",
   "metadata": {},
   "outputs": [],
   "source": [
    "df_productoras_limpio[df_productoras_limpio['Nombre'] == 'YouTOOProject']\n",
    "df_productoras_limpio.index[(df_productoras_limpio['Nombre'] == 'YouTOOProject') & (df_productoras_limpio['Pais'] == 'AUSTRALIA')].tolist()"
   ]
  },
  {
   "cell_type": "code",
   "execution_count": null,
   "id": "f52727bf",
   "metadata": {},
   "outputs": [],
   "source": [
    "df_eventos_limpio['id_productora'] = df_eventos_limpio.apply(add_productora_id, axis=1)\n",
    "df_eventos_limpio.head()"
   ]
  },
  {
   "cell_type": "code",
   "execution_count": null,
   "id": "b683151c",
   "metadata": {},
   "outputs": [],
   "source": [
    "df_eventos_id = df_eventos_limpio.drop(columns=['Productora'])\n",
    "df_eventos_id.head()"
   ]
  },
  {
   "cell_type": "code",
   "execution_count": null,
   "id": "bd7ca1b2",
   "metadata": {},
   "outputs": [],
   "source": [
    "df_eventos_limpio[df_eventos_limpio['Productora'] == 'Expat']"
   ]
  },
  {
   "cell_type": "code",
   "execution_count": null,
   "id": "4347e980",
   "metadata": {},
   "outputs": [],
   "source": [
    "#df_eventos_id.to_csv('Eventos_limpio.csv', index = True)"
   ]
  },
  {
   "cell_type": "code",
   "execution_count": null,
   "id": "a7e8f2ee",
   "metadata": {},
   "outputs": [],
   "source": [
    "df_eventos_id[df_eventos_id['Evento'] == 'BZRP Tour']"
   ]
  },
  {
   "cell_type": "code",
   "execution_count": null,
   "id": "1ffa5fe6",
   "metadata": {},
   "outputs": [],
   "source": [
    "df_eventos_id[df_eventos_id['Evento'] == 'Get Jacked']"
   ]
  },
  {
   "cell_type": "code",
   "execution_count": null,
   "id": "a46ea3cd",
   "metadata": {},
   "outputs": [],
   "source": [
    "df_artista_evento = df_eventos_id[[\"Evento\", \"Artista\", \"id_productora\"]]\n",
    "df_artista_evento.head()"
   ]
  },
  {
   "cell_type": "code",
   "execution_count": null,
   "id": "a17a78ed",
   "metadata": {},
   "outputs": [],
   "source": [
    "df_artista_evento[df_artista_evento['Evento'] == 'BZRP Tour']"
   ]
  },
  {
   "cell_type": "code",
   "execution_count": null,
   "id": "6fad7466",
   "metadata": {},
   "outputs": [],
   "source": [
    "df_evento_sin_artista = df_eventos_id.drop(columns=['Artista'])\n",
    "df_evento_sin_artista = df_evento_sin_artista.drop_duplicates()\n",
    "df_evento_sin_artista.value_counts()\n",
    "df_evento_sin_artista = df_evento_sin_artista.reset_index(drop = True)\n",
    "df_evento_sin_artista = df_evento_sin_artista.rename_axis('id_evento')\n",
    "df_evento_sin_artista.head()"
   ]
  },
  {
   "cell_type": "code",
   "execution_count": null,
   "id": "e2738209",
   "metadata": {},
   "outputs": [],
   "source": [
    "df_evento_sin_artista[df_evento_sin_artista['Evento'] == 'Get Jacked']"
   ]
  },
  {
   "cell_type": "code",
   "execution_count": null,
   "id": "7fce70f6",
   "metadata": {},
   "outputs": [],
   "source": [
    "nombre = 'Get Jacked'\n",
    "df_evento_sin_artista.index[df_evento_sin_artista['Evento'] == nombre].tolist()"
   ]
  },
  {
   "cell_type": "code",
   "execution_count": null,
   "id": "02f6e9a2",
   "metadata": {},
   "outputs": [],
   "source": [
    "df_evento_sin_artista = df_evento_sin_artista.rename(columns={\"Fecha de incio\": \"fecha_inicio\"})\n",
    "df_evento_sin_artista.head()"
   ]
  },
  {
   "cell_type": "code",
   "execution_count": null,
   "id": "0359d0bf",
   "metadata": {},
   "outputs": [],
   "source": [
    "df_evento_sin_artista.to_csv('Eventos_limpio.csv', index = True)"
   ]
  },
  {
   "cell_type": "code",
   "execution_count": null,
   "id": "9607526d",
   "metadata": {},
   "outputs": [],
   "source": [
    "df_artista_evento.head()"
   ]
  },
  {
   "cell_type": "code",
   "execution_count": null,
   "id": "f4a3f8d4",
   "metadata": {},
   "outputs": [],
   "source": [
    "def get_evento_id(evento, id_prod):\n",
    "    return df_evento_sin_artista.index[(df_evento_sin_artista['Evento'] == evento) & (df_evento_sin_artista['id_productora'] == id_prod)].tolist()[0]\n",
    "def add_evento_id(row):\n",
    "    id_evento = get_evento_id(row[\"Evento\"], row[\"id_productora\"])\n",
    "    return id_evento\n",
    "def artista_id(nombre):\n",
    "    return df_artistas_limpio.index[df_artistas_limpio['nombre_artistico'] == nombre].tolist()[0]"
   ]
  },
  {
   "cell_type": "code",
   "execution_count": null,
   "id": "dc4ba95a",
   "metadata": {},
   "outputs": [],
   "source": [
    "df_productoras_limpio.iloc[227]"
   ]
  },
  {
   "cell_type": "code",
   "execution_count": null,
   "id": "65d08a0e",
   "metadata": {},
   "outputs": [],
   "source": [
    "df_artista_evento['id_evento'] = df_artista_evento.apply(add_evento_id, axis=1)\n",
    "df_artista_evento.head()"
   ]
  },
  {
   "cell_type": "code",
   "execution_count": null,
   "id": "466f2dff",
   "metadata": {},
   "outputs": [],
   "source": [
    "'''for nombre in df_artista_evento['Artista']:\n",
    "    print(nombre)\n",
    "    print(artista_id(nombre))'''"
   ]
  },
  {
   "cell_type": "code",
   "execution_count": null,
   "id": "14ec25b2",
   "metadata": {},
   "outputs": [],
   "source": [
    "df_artista_evento['id_artista'] = df_artista_evento['Artista'].apply(artista_id)"
   ]
  },
  {
   "cell_type": "code",
   "execution_count": null,
   "id": "ce60281b",
   "metadata": {},
   "outputs": [],
   "source": [
    "df_artista_evento[df_artista_evento[\"Artista\"] == 'Imagine Dragons']"
   ]
  },
  {
   "cell_type": "code",
   "execution_count": null,
   "id": "18a77432",
   "metadata": {},
   "outputs": [],
   "source": [
    "df_artista_evento = df_artista_evento.drop(columns=['Artista', 'Evento'])\n",
    "df_artista_evento.head()"
   ]
  },
  {
   "cell_type": "code",
   "execution_count": null,
   "id": "c98ed188",
   "metadata": {},
   "outputs": [],
   "source": [
    "df_artista_evento.to_csv('Artista_en_Evento.csv', index = False)"
   ]
  },
  {
   "cell_type": "code",
   "execution_count": null,
   "id": "49d706a0",
   "metadata": {},
   "outputs": [],
   "source": [
    "df_evento_sin_artista"
   ]
  },
  {
   "cell_type": "code",
   "execution_count": null,
   "id": "69942625",
   "metadata": {},
   "outputs": [],
   "source": [
    "evento = \"Get Jacked\"\n",
    "df_eventos_limpio[df_eventos_limpio['Evento'] == evento]"
   ]
  },
  {
   "cell_type": "code",
   "execution_count": null,
   "id": "dd348eb3",
   "metadata": {},
   "outputs": [],
   "source": [
    "df_artista_evento[df_artista_evento['id_evento'] == 135]"
   ]
  },
  {
   "cell_type": "code",
   "execution_count": null,
   "id": "bddadcef",
   "metadata": {},
   "outputs": [],
   "source": [
    "df_evento_sin_artista.iloc[135]"
   ]
  },
  {
   "cell_type": "code",
   "execution_count": null,
   "id": "78ea0512",
   "metadata": {},
   "outputs": [],
   "source": [
    "df_eventos_limpio\n",
    "df_eventos_limpio[df_eventos_limpio['Evento'] == 'The Misery']"
   ]
  },
  {
   "cell_type": "code",
   "execution_count": null,
   "id": "b6903fca",
   "metadata": {},
   "outputs": [],
   "source": [
    "df_artista_evento[df_artista_evento[\"id_evento\"]==135]"
   ]
  },
  {
   "cell_type": "markdown",
   "id": "6854e2ba",
   "metadata": {},
   "source": [
    "Limpieza Entradas"
   ]
  },
  {
   "cell_type": "code",
   "execution_count": null,
   "id": "7a641749",
   "metadata": {},
   "outputs": [],
   "source": [
    "archivo = 'Entradas Cortesia.csv'\n",
    "df_entradas = pd.read_csv(archivo)\n",
    "df_entradas.head()"
   ]
  },
  {
   "cell_type": "code",
   "execution_count": null,
   "id": "d731972e",
   "metadata": {},
   "outputs": [],
   "source": [
    "df_entradas.value_counts()\n",
    "df_entradas_limpio = df_entradas.drop_duplicates()\n",
    "df_entradas_limpio.value_counts()"
   ]
  },
  {
   "cell_type": "code",
   "execution_count": null,
   "id": "e8a83085",
   "metadata": {},
   "outputs": [],
   "source": [
    "df_entradas_limpio['id_artista'] = df_entradas_limpio['artista'].apply(artista_id)\n",
    "\n",
    "df_entradas_limpio.head()"
   ]
  },
  {
   "cell_type": "code",
   "execution_count": null,
   "id": "2c7e4d38",
   "metadata": {},
   "outputs": [],
   "source": [
    "df_entradas_limpio"
   ]
  },
  {
   "cell_type": "code",
   "execution_count": null,
   "id": "5541f6cb",
   "metadata": {},
   "outputs": [],
   "source": [
    "df_eventos_limpio[(df_eventos_limpio[\"Evento\"]==\"Bangerz\") & (df_eventos_limpio[\"Artista\"]==\"Miley Cyrus\")]"
   ]
  },
  {
   "cell_type": "code",
   "execution_count": null,
   "id": "87c16230",
   "metadata": {},
   "outputs": [],
   "source": [
    "def transformar_entradas(id_artista, evento):\n",
    "    id_eventos = df_artista_evento[df_artista_evento[\"id_artista\"]==id_artista][\"id_evento\"]\n",
    "    for i in id_eventos:\n",
    "        df_evento = df_evento_sin_artista.iloc[i]\n",
    "        if df_evento[\"Evento\"] == evento:\n",
    "            return int(df_evento[\"id_productora\"])\n",
    "def get_id_productora_entrada(row):\n",
    "    id_productora = transformar_entradas(row[\"id_artista\"], row[\"evento\"])\n",
    "    if id_productora is None:\n",
    "        return 60\n",
    "    else:\n",
    "        return int(id_productora)\n",
    "transformar_entradas(172, \"I Aint Worried\")"
   ]
  },
  {
   "cell_type": "code",
   "execution_count": null,
   "id": "208e8c85",
   "metadata": {},
   "outputs": [],
   "source": [
    "df_entradas_limpio[\"id_productora\"] = df_entradas_limpio.apply(get_id_productora_entrada, axis=1)\n",
    "df_entradas_limpio"
   ]
  },
  {
   "cell_type": "code",
   "execution_count": null,
   "id": "101af7e0",
   "metadata": {},
   "outputs": [],
   "source": [
    "df_evento_sin_artista[(df_evento_sin_artista[\"Evento\"] == \"Bangerz\") & (df_evento_sin_artista[\"id_productora\"] == 237)]"
   ]
  },
  {
   "cell_type": "code",
   "execution_count": null,
   "id": "50f528d0",
   "metadata": {},
   "outputs": [],
   "source": [
    "def transformar_entradas2(evento, id_productora):\n",
    "    if evento == \"Fourplan Mania\":\n",
    "        return df_evento_sin_artista.index[(df_evento_sin_artista[\"Evento\"] == \"Fourplan Event\") & (df_evento_sin_artista[\"id_productora\"] == 60)].tolist()[0]\n",
    "    else:\n",
    "        return df_evento_sin_artista.index[(df_evento_sin_artista[\"Evento\"] == evento) & (df_evento_sin_artista[\"id_productora\"] == id_productora)].tolist()[0]\n",
    "def get_id_evento_entrada(row):\n",
    "    id_productora = transformar_entradas2(row[\"evento\"], row[\"id_productora\"])\n",
    "    return id_productora"
   ]
  },
  {
   "cell_type": "code",
   "execution_count": null,
   "id": "af61cef2",
   "metadata": {},
   "outputs": [],
   "source": [
    "df_evento_sin_artista.index[(df_evento_sin_artista[\"Evento\"] == \"Bangerz\") & (df_evento_sin_artista[\"id_productora\"] == 237)].tolist()[0]"
   ]
  },
  {
   "cell_type": "code",
   "execution_count": null,
   "id": "97e49a05",
   "metadata": {},
   "outputs": [],
   "source": [
    "df_entradas_limpio[\"id_evento\"] = df_entradas_limpio.apply(get_id_evento_entrada, axis=1)\n",
    "df_entradas_limpio.head()"
   ]
  },
  {
   "cell_type": "code",
   "execution_count": null,
   "id": "ec766de6",
   "metadata": {},
   "outputs": [],
   "source": [
    "df_entradas_limpio = df_entradas_limpio.drop(columns=['artista', 'evento'])\n",
    "df_entradas_limpio.head()"
   ]
  },
  {
   "cell_type": "code",
   "execution_count": null,
   "id": "69e42749",
   "metadata": {},
   "outputs": [],
   "source": [
    "df_entradas_limpio.to_csv('Entradas Cortesia_limpio.csv', index = False)"
   ]
  },
  {
   "cell_type": "code",
   "execution_count": null,
   "id": "0c054403",
   "metadata": {},
   "outputs": [],
   "source": [
    "archivo = 'Hospedajes y traslados.csv'\n",
    "df_hospedaje = pd.read_csv(archivo)\n",
    "df_hospedaje.head()"
   ]
  },
  {
   "cell_type": "code",
   "execution_count": null,
   "id": "e23ed7bd",
   "metadata": {},
   "outputs": [],
   "source": [
    "df_hospedaje.value_counts()\n",
    "df_hospedaje_limpio = df_hospedaje.drop_duplicates()\n",
    "df_hospedaje_limpio.value_counts()"
   ]
  },
  {
   "cell_type": "code",
   "execution_count": null,
   "id": "038a9635",
   "metadata": {},
   "outputs": [],
   "source": [
    "df_hospedaje_limpio.head()"
   ]
  },
  {
   "cell_type": "code",
   "execution_count": null,
   "id": "e45c13dc",
   "metadata": {},
   "outputs": [],
   "source": [
    "df_hospedaje_limpio[\"id_artista\"] = df_hospedaje_limpio[\"artista\"].apply(artista_id)"
   ]
  },
  {
   "cell_type": "code",
   "execution_count": null,
   "id": "77a6053c",
   "metadata": {},
   "outputs": [],
   "source": [
    "df_hospedaje_limpio = df_hospedaje_limpio.drop(columns = [\"artista\"])\n",
    "df_hospedaje_limpio.head()"
   ]
  },
  {
   "cell_type": "code",
   "execution_count": null,
   "id": "309ce988",
   "metadata": {},
   "outputs": [],
   "source": [
    "df_hospedaje_limpio = df_hospedaje_limpio.rename(columns={\"codigo reserva\": \"codigo_reserva\", \"fecha inicio\": \"fecha_inicio\", \"fecha termino\": \"fecha_termino\", \"nombre hotel\": \"nombre_hotel\", \"tipo traslado\": \"tipo_traslado\", \"aeropuerto salida\": \"aeropuerto_salida\", \"hora salida\": \"hora_salida\", \"aeropuerto llegada\": \"aeropuerto_llegada\", \"hora llegada\": \"hora_llegada\"})\n",
    "df_hospedaje_limpio.head()"
   ]
  },
  {
   "cell_type": "code",
   "execution_count": null,
   "id": "09c20942",
   "metadata": {},
   "outputs": [],
   "source": [
    "df_hospedaje_limpio.to_csv('Hospedajes y traslados_limpio.csv', index = False)"
   ]
  },
  {
   "cell_type": "code",
   "execution_count": null,
   "id": "67169126",
   "metadata": {},
   "outputs": [],
   "source": []
  },
  {
   "cell_type": "code",
   "execution_count": null,
   "id": "fd172cf1",
   "metadata": {},
   "outputs": [],
   "source": []
  },
  {
   "cell_type": "code",
   "execution_count": null,
   "id": "fc26cc5c",
   "metadata": {},
   "outputs": [],
   "source": []
  }
 ],
 "metadata": {
  "kernelspec": {
   "display_name": "Python 3 (ipykernel)",
   "language": "python",
   "name": "python3"
  },
  "language_info": {
   "codemirror_mode": {
    "name": "ipython",
    "version": 3
   },
   "file_extension": ".py",
   "mimetype": "text/x-python",
   "name": "python",
   "nbconvert_exporter": "python",
   "pygments_lexer": "ipython3",
   "version": "3.8.10"
  }
 },
 "nbformat": 4,
 "nbformat_minor": 5
}
