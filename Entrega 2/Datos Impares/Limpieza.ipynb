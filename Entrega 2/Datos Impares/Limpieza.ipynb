{
 "cells": [
  {
   "cell_type": "code",
   "execution_count": 1466,
   "id": "d20311c0",
   "metadata": {},
   "outputs": [
    {
     "name": "stdout",
     "output_type": "stream",
     "text": [
      "Requirement already satisfied: pandas in /Library/Frameworks/Python.framework/Versions/3.8/lib/python3.8/site-packages (1.5.1)\n",
      "Requirement already satisfied: pytz>=2020.1 in /Library/Frameworks/Python.framework/Versions/3.8/lib/python3.8/site-packages (from pandas) (2022.5)\n",
      "Requirement already satisfied: numpy>=1.20.3 in /Library/Frameworks/Python.framework/Versions/3.8/lib/python3.8/site-packages (from pandas) (1.23.4)\n",
      "Requirement already satisfied: python-dateutil>=2.8.1 in /Library/Frameworks/Python.framework/Versions/3.8/lib/python3.8/site-packages (from pandas) (2.8.2)\n",
      "Requirement already satisfied: six>=1.5 in /Library/Frameworks/Python.framework/Versions/3.8/lib/python3.8/site-packages (from python-dateutil>=2.8.1->pandas) (1.16.0)\n",
      "\u001b[33mWARNING: You are using pip version 22.0.4; however, version 22.3 is available.\n",
      "You should consider upgrading via the '/Library/Frameworks/Python.framework/Versions/3.8/bin/python3 -m pip install --upgrade pip' command.\u001b[0m\u001b[33m\n",
      "\u001b[0mNote: you may need to restart the kernel to use updated packages.\n"
     ]
    }
   ],
   "source": [
    "pip install pandas"
   ]
  },
  {
   "cell_type": "code",
   "execution_count": 1467,
   "id": "3c4e8135",
   "metadata": {},
   "outputs": [],
   "source": [
    "pd.set_option('display.max_rows', 20)"
   ]
  },
  {
   "cell_type": "code",
   "execution_count": 1468,
   "id": "0bb53226",
   "metadata": {},
   "outputs": [
    {
     "ename": "SyntaxError",
     "evalue": "invalid syntax (2632867208.py, line 11)",
     "output_type": "error",
     "traceback": [
      "\u001b[0;36m  Input \u001b[0;32mIn [1468]\u001b[0;36m\u001b[0m\n\u001b[0;31m    df_artistas_limpio = df_artistas_limpio.rename(columns={\"Nº contacto\": \"Numero_contacto\", \"Nombre artistico\":\"nombre_artistico\",\"Inicio_carrera\"})\u001b[0m\n\u001b[0m                                                                                                                                                    ^\u001b[0m\n\u001b[0;31mSyntaxError\u001b[0m\u001b[0;31m:\u001b[0m invalid syntax\n"
     ]
    }
   ],
   "source": [
    "import pandas as pd\n",
    "\n",
    "df_artistas = pd.read_csv(\"Artistas.csv\")\n",
    "\n",
    "df_artistas['Nombre artistico'].value_counts()\n",
    "\n",
    "df_artistas_limpio = df_artistas.drop_duplicates()\n",
    "\n",
    "df_artistas_limpio['Nombre artistico'].value_counts()\n",
    "\n",
    "df_artistas_limpio = df_artistas_limpio.rename(columns={\"Nº contacto\": \"Numero_contacto\", \"Nombre artistico\":\"nombre_artistico\",\"Inicio_carrera\"})\n",
    "\n",
    "df_artistas_limpio = df_artistas_limpio.reset_index()\n",
    "df_artistas_limpio = df_artistas_limpio.rename_axis('id_artista')\n",
    "df_artistas_limpio = df_artistas_limpio.drop(columns=['index'])\n",
    "df_artistas_limpio"
   ]
  },
  {
   "cell_type": "code",
   "execution_count": null,
   "id": "e19090a5",
   "metadata": {},
   "outputs": [],
   "source": [
    "df_artistas_limpio.to_csv('Artistas_limpio.csv', index = True)"
   ]
  },
  {
   "cell_type": "code",
   "execution_count": null,
   "id": "1fd0f48a",
   "metadata": {},
   "outputs": [],
   "source": [
    "archivo = 'Productoras.csv'\n",
    "df_productoras = pd.read_csv(archivo)\n",
    "df_productoras.head()"
   ]
  },
  {
   "cell_type": "code",
   "execution_count": null,
   "id": "5f7fad88",
   "metadata": {},
   "outputs": [],
   "source": [
    "df_productoras_limpio = df_productoras.rename(columns={\"Nº contacto\": \"Numero_contacto\", \"País\": \"Pais\"})\n",
    "df_productoras_limpio.head()"
   ]
  },
  {
   "cell_type": "code",
   "execution_count": null,
   "id": "79834009",
   "metadata": {},
   "outputs": [],
   "source": [
    "df_productoras_limpio.value_counts()\n",
    "df_productoras_limpio = df_productoras_limpio.drop_duplicates()\n",
    "df_productoras_limpio.value_counts()"
   ]
  },
  {
   "cell_type": "code",
   "execution_count": null,
   "id": "9aa1c9c8",
   "metadata": {},
   "outputs": [],
   "source": [
    "df_productoras_limpio = df_productoras_limpio.reset_index()\n",
    "df_productoras_limpio = df_productoras_limpio.rename_axis('id_productora')\n",
    "df_productoras_limpio = df_productoras_limpio.drop(columns=['index'])\n",
    "df_productoras_limpio.head()"
   ]
  },
  {
   "cell_type": "code",
   "execution_count": null,
   "id": "24b1ca10",
   "metadata": {},
   "outputs": [],
   "source": [
    "df_productoras_limpio.to_csv('Productoras_limpio.csv', index = True)"
   ]
  },
  {
   "cell_type": "code",
   "execution_count": null,
   "id": "1cd99a14",
   "metadata": {},
   "outputs": [],
   "source": [
    "archivo = 'Tour.csv'\n",
    "df_tour = pd.read_csv(archivo)\n",
    "df_tour.head()"
   ]
  },
  {
   "cell_type": "code",
   "execution_count": null,
   "id": "2e5e7013",
   "metadata": {},
   "outputs": [],
   "source": [
    "df_tour.value_counts()\n",
    "df_tour_limpio = df_tour.drop_duplicates()\n",
    "df_tour_limpio.value_counts()"
   ]
  },
  {
   "cell_type": "code",
   "execution_count": null,
   "id": "0636d365",
   "metadata": {},
   "outputs": [],
   "source": [
    "df_tour_limpio = df_tour_limpio.reset_index()\n",
    "df_tour_limpio = df_tour_limpio.rename_axis('id_tour')\n",
    "df_tour_limpio = df_tour_limpio.drop(columns=['index'])\n",
    "df_tour_limpio = df_tour_limpio.rename(columns={\"fecha inicio\": \"fecha_inicio\", \"fecha termino\": \"fecha_termino\"})\n",
    "df_tour_limpio.head()"
   ]
  },
  {
   "cell_type": "code",
   "execution_count": null,
   "id": "02d86a7c",
   "metadata": {},
   "outputs": [],
   "source": [
    "df_tour_limpio.to_csv('Tour_limpio.csv', index = True)"
   ]
  },
  {
   "cell_type": "code",
   "execution_count": null,
   "id": "9d37b10d",
   "metadata": {},
   "outputs": [],
   "source": [
    "archivo = 'Eventos.csv'\n",
    "df_eventos = pd.read_csv(archivo)\n",
    "df_eventos.head()"
   ]
  },
  {
   "cell_type": "code",
   "execution_count": null,
   "id": "1aee4a43",
   "metadata": {},
   "outputs": [],
   "source": [
    "df_eventos.value_counts()\n",
    "df_eventos_limpio = df_eventos.drop_duplicates()\n",
    "df_eventos_limpio.value_counts()"
   ]
  },
  {
   "cell_type": "code",
   "execution_count": null,
   "id": "7838402c",
   "metadata": {},
   "outputs": [],
   "source": [
    "df_eventos_limpio = df_eventos_limpio.reset_index()\n",
    "df_eventos_limpio = df_eventos_limpio.rename_axis('id_evento')\n",
    "df_eventos_limpio = df_eventos_limpio.drop(columns=['index'])\n",
    "df_eventos_limpio.head()"
   ]
  },
  {
   "cell_type": "code",
   "execution_count": null,
   "id": "ba9bb279",
   "metadata": {},
   "outputs": [],
   "source": [
    "df_eventos_limpio[df_eventos_limpio['Productora'] == 'Expat']"
   ]
  },
  {
   "cell_type": "code",
   "execution_count": null,
   "id": "2bf5b122",
   "metadata": {},
   "outputs": [],
   "source": [
    "df_eventos_limpio.head()\n"
   ]
  },
  {
   "cell_type": "code",
   "execution_count": null,
   "id": "ee850a98",
   "metadata": {},
   "outputs": [],
   "source": [
    "df_productoras_limpio"
   ]
  },
  {
   "cell_type": "code",
   "execution_count": null,
   "id": "410e70f6",
   "metadata": {},
   "outputs": [],
   "source": [
    "df_productoras_limpio[df_productoras_limpio['Nombre'] == 'Expat']\n"
   ]
  },
  {
   "cell_type": "code",
   "execution_count": null,
   "id": "341c3dff",
   "metadata": {},
   "outputs": [],
   "source": [
    "def get_productora_id(nombre, pais):\n",
    "    if pais == 'AUTRALIA':\n",
    "        pais = \"AUSTRALIA\"\n",
    "    return df_productoras_limpio.index[(df_productoras_limpio['Nombre'] == nombre) & (df_productoras_limpio['Pais'] == pais)].tolist()[0]\n",
    "def add_productora_id(row):\n",
    "    id_prod = get_productora_id(row[\"Productora\"], row[\"Pais\"])\n",
    "    return id_prod"
   ]
  },
  {
   "cell_type": "code",
   "execution_count": null,
   "id": "632d52e5",
   "metadata": {},
   "outputs": [],
   "source": [
    "productora_id('Expat', \"AUSTRALIA\")"
   ]
  },
  {
   "cell_type": "code",
   "execution_count": null,
   "id": "7f1a1aa1",
   "metadata": {},
   "outputs": [],
   "source": [
    "df_eventos_limpio[['Productora','Pais']]"
   ]
  },
  {
   "cell_type": "code",
   "execution_count": null,
   "id": "4deac1fa",
   "metadata": {},
   "outputs": [],
   "source": [
    "df_productoras_limpio[df_productoras_limpio['Nombre'] == 'YouTOOProject']\n",
    "df_productoras_limpio.index[(df_productoras_limpio['Nombre'] == 'YouTOOProject') & (df_productoras_limpio['Pais'] == 'AUSTRALIA')].tolist()"
   ]
  },
  {
   "cell_type": "code",
   "execution_count": null,
   "id": "38dee646",
   "metadata": {},
   "outputs": [],
   "source": [
    "df_eventos_limpio['id_productora'] = df_eventos_limpio.apply(add_productora_id, axis=1)\n",
    "df_eventos_limpio.head()"
   ]
  },
  {
   "cell_type": "code",
   "execution_count": null,
   "id": "4a0d2f14",
   "metadata": {},
   "outputs": [],
   "source": [
    "df_eventos_id = df_eventos_limpio.drop(columns=['Productora'])\n",
    "df_eventos_id.head()"
   ]
  },
  {
   "cell_type": "code",
   "execution_count": null,
   "id": "83ae5a86",
   "metadata": {},
   "outputs": [],
   "source": [
    "df_eventos_limpio[df_eventos_limpio['Productora'] == 'Expat']"
   ]
  },
  {
   "cell_type": "code",
   "execution_count": null,
   "id": "0a3f3c73",
   "metadata": {},
   "outputs": [],
   "source": [
    "#df_eventos_id.to_csv('Eventos_limpio.csv', index = True)"
   ]
  },
  {
   "cell_type": "code",
   "execution_count": null,
   "id": "6c6d03d9",
   "metadata": {},
   "outputs": [],
   "source": [
    "df_eventos_id[df_eventos_id['Evento'] == 'BZRP Tour']"
   ]
  },
  {
   "cell_type": "code",
   "execution_count": null,
   "id": "03f933b3",
   "metadata": {},
   "outputs": [],
   "source": [
    "df_eventos_id[df_eventos_id['Evento'] == 'Get Jacked']"
   ]
  },
  {
   "cell_type": "code",
   "execution_count": null,
   "id": "36140f71",
   "metadata": {},
   "outputs": [],
   "source": [
    "df_artista_evento = df_eventos_id[[\"Evento\", \"Artista\", \"id_productora\"]]\n",
    "df_artista_evento.head()"
   ]
  },
  {
   "cell_type": "code",
   "execution_count": null,
   "id": "f715ae47",
   "metadata": {},
   "outputs": [],
   "source": [
    "df_artista_evento[df_artista_evento['Evento'] == 'BZRP Tour']"
   ]
  },
  {
   "cell_type": "code",
   "execution_count": null,
   "id": "2949b668",
   "metadata": {},
   "outputs": [],
   "source": [
    "df_evento_sin_artista = df_eventos_id.drop(columns=['Artista'])\n",
    "df_evento_sin_artista = df_evento_sin_artista.drop_duplicates()\n",
    "df_evento_sin_artista.value_counts()\n",
    "df_evento_sin_artista = df_evento_sin_artista.reset_index(drop = True)\n",
    "df_evento_sin_artista = df_evento_sin_artista.rename_axis('id_evento')\n",
    "df_evento_sin_artista.head()"
   ]
  },
  {
   "cell_type": "code",
   "execution_count": null,
   "id": "dc94aa6c",
   "metadata": {},
   "outputs": [],
   "source": [
    "df_evento_sin_artista[df_evento_sin_artista['Evento'] == 'Get Jacked']"
   ]
  },
  {
   "cell_type": "code",
   "execution_count": null,
   "id": "e8c11e8e",
   "metadata": {},
   "outputs": [],
   "source": [
    "nombre = 'Get Jacked'\n",
    "df_evento_sin_artista.index[df_evento_sin_artista['Evento'] == nombre].tolist()"
   ]
  },
  {
   "cell_type": "code",
   "execution_count": null,
   "id": "97275a1e",
   "metadata": {},
   "outputs": [],
   "source": [
    "df_evento_sin_artista = df_evento_sin_artista.rename(columns={\"Fecha de incio\": \"fecha_inicio\"})\n",
    "df_evento_sin_artista.head()"
   ]
  },
  {
   "cell_type": "code",
   "execution_count": null,
   "id": "2043c983",
   "metadata": {},
   "outputs": [],
   "source": [
    "df_evento_sin_artista.to_csv('Eventos_limpio.csv', index = True)"
   ]
  },
  {
   "cell_type": "code",
   "execution_count": null,
   "id": "6fd7491a",
   "metadata": {},
   "outputs": [],
   "source": [
    "df_artista_evento.head()"
   ]
  },
  {
   "cell_type": "code",
   "execution_count": null,
   "id": "b6aeb3a5",
   "metadata": {},
   "outputs": [],
   "source": [
    "def get_evento_id(evento, id_prod):\n",
    "    return df_evento_sin_artista.index[(df_evento_sin_artista['Evento'] == evento) & (df_evento_sin_artista['id_productora'] == id_prod)].tolist()[0]\n",
    "def add_evento_id(row):\n",
    "    id_evento = get_evento_id(row[\"Evento\"], row[\"id_productora\"])\n",
    "    return id_evento\n",
    "def artista_id(nombre):\n",
    "    return df_artistas_limpio.index[df_artistas_limpio['Nombre artistico'] == nombre].tolist()[0]"
   ]
  },
  {
   "cell_type": "code",
   "execution_count": null,
   "id": "fc0471e3",
   "metadata": {},
   "outputs": [],
   "source": [
    "df_productoras_limpio.iloc[227]"
   ]
  },
  {
   "cell_type": "code",
   "execution_count": null,
   "id": "669478b5",
   "metadata": {},
   "outputs": [],
   "source": [
    "df_artista_evento['id_evento'] = df_artista_evento.apply(add_evento_id, axis=1)\n",
    "df_artista_evento.head()"
   ]
  },
  {
   "cell_type": "code",
   "execution_count": null,
   "id": "51f4950f",
   "metadata": {},
   "outputs": [],
   "source": [
    "'''for nombre in df_artista_evento['Artista']:\n",
    "    print(nombre)\n",
    "    print(artista_id(nombre))'''"
   ]
  },
  {
   "cell_type": "code",
   "execution_count": null,
   "id": "d0bc3ed3",
   "metadata": {},
   "outputs": [],
   "source": [
    "df_artista_evento['id_artista'] = df_artista_evento['Artista'].apply(artista_id)"
   ]
  },
  {
   "cell_type": "code",
   "execution_count": null,
   "id": "fd48cb70",
   "metadata": {},
   "outputs": [],
   "source": [
    "df_artista_evento[df_artista_evento[\"Artista\"] == 'Imagine Dragons']"
   ]
  },
  {
   "cell_type": "code",
   "execution_count": null,
   "id": "bebd3952",
   "metadata": {},
   "outputs": [],
   "source": [
    "df_artista_evento = df_artista_evento.drop(columns=['Artista', 'Evento'])\n",
    "df_artista_evento.head()"
   ]
  },
  {
   "cell_type": "code",
   "execution_count": null,
   "id": "f7b3e73e",
   "metadata": {},
   "outputs": [],
   "source": [
    "df_artista_evento.to_csv('Artista_en_Evento.csv', index = False)"
   ]
  },
  {
   "cell_type": "code",
   "execution_count": null,
   "id": "8c5e81b4",
   "metadata": {},
   "outputs": [],
   "source": [
    "df_evento_sin_artista"
   ]
  },
  {
   "cell_type": "code",
   "execution_count": null,
   "id": "3ee459ce",
   "metadata": {},
   "outputs": [],
   "source": [
    "evento = \"Get Jacked\"\n",
    "df_eventos_limpio[df_eventos_limpio['Evento'] == evento]"
   ]
  },
  {
   "cell_type": "code",
   "execution_count": null,
   "id": "d73356e7",
   "metadata": {},
   "outputs": [],
   "source": [
    "df_artista_evento[df_artista_evento['id_evento'] == 135]"
   ]
  },
  {
   "cell_type": "code",
   "execution_count": null,
   "id": "1ceec9dd",
   "metadata": {},
   "outputs": [],
   "source": [
    "df_evento_sin_artista.iloc[135]"
   ]
  },
  {
   "cell_type": "code",
   "execution_count": null,
   "id": "5d825bf9",
   "metadata": {},
   "outputs": [],
   "source": [
    "df_eventos_limpio\n",
    "df_eventos_limpio[df_eventos_limpio['Evento'] == 'The Misery']"
   ]
  },
  {
   "cell_type": "code",
   "execution_count": null,
   "id": "92504c3d",
   "metadata": {},
   "outputs": [],
   "source": [
    "df_artista_evento[df_artista_evento[\"id_evento\"]==135]"
   ]
  },
  {
   "cell_type": "markdown",
   "id": "ddda5077",
   "metadata": {},
   "source": [
    "Limpieza Entradas"
   ]
  },
  {
   "cell_type": "code",
   "execution_count": null,
   "id": "dadeef6c",
   "metadata": {},
   "outputs": [],
   "source": [
    "archivo = 'Entradas Cortesia.csv'\n",
    "df_entradas = pd.read_csv(archivo)\n",
    "df_entradas.head()"
   ]
  },
  {
   "cell_type": "code",
   "execution_count": null,
   "id": "8cee52e1",
   "metadata": {},
   "outputs": [],
   "source": [
    "df_entradas.value_counts()\n",
    "df_entradas_limpio = df_entradas.drop_duplicates()\n",
    "df_entradas_limpio.value_counts()"
   ]
  },
  {
   "cell_type": "code",
   "execution_count": null,
   "id": "124519d4",
   "metadata": {},
   "outputs": [],
   "source": [
    "df_entradas_limpio['id_artista'] = df_entradas_limpio['artista'].apply(artista_id)\n",
    "\n",
    "df_entradas_limpio.head()"
   ]
  },
  {
   "cell_type": "code",
   "execution_count": null,
   "id": "d15503db",
   "metadata": {},
   "outputs": [],
   "source": [
    "df_entradas_limpio"
   ]
  },
  {
   "cell_type": "code",
   "execution_count": null,
   "id": "656f04e6",
   "metadata": {},
   "outputs": [],
   "source": [
    "df_eventos_limpio[(df_eventos_limpio[\"Evento\"]==\"Bangerz\") & (df_eventos_limpio[\"Artista\"]==\"Miley Cyrus\")]"
   ]
  },
  {
   "cell_type": "code",
   "execution_count": null,
   "id": "2d7b5795",
   "metadata": {},
   "outputs": [],
   "source": [
    "def transformar_entradas(id_artista, evento):\n",
    "    id_eventos = df_artista_evento[df_artista_evento[\"id_artista\"]==id_artista][\"id_evento\"]\n",
    "    for i in id_eventos:\n",
    "        df_evento = df_evento_sin_artista.iloc[i]\n",
    "        if df_evento[\"Evento\"] == evento:\n",
    "            return int(df_evento[\"id_productora\"])\n",
    "def get_id_productora_entrada(row):\n",
    "    id_productora = transformar_entradas(row[\"id_artista\"], row[\"evento\"])\n",
    "    if id_productora is None:\n",
    "        return None\n",
    "    else:\n",
    "        return int(id_productora)\n",
    "transformar_entradas(172, \"I Aint Worried\")"
   ]
  },
  {
   "cell_type": "code",
   "execution_count": null,
   "id": "3ea3c517",
   "metadata": {},
   "outputs": [],
   "source": [
    "df_entradas_limpio[\"id_productora\"] = df_entradas_limpio.apply(get_id_productora_entrada, axis=1)\n",
    "df_entradas_limpio"
   ]
  },
  {
   "cell_type": "code",
   "execution_count": null,
   "id": "bf36cfd6",
   "metadata": {},
   "outputs": [],
   "source": [
    "df_artistas_limpio[df_artistas_limpio[\"Nombre artistico\"] == \"Luar La L\"]"
   ]
  },
  {
   "cell_type": "code",
   "execution_count": null,
   "id": "298ea89d",
   "metadata": {},
   "outputs": [],
   "source": [
    "df_evento_sin_artista[(df_evento_sin_artista[\"Evento\"] == \"Bangerz\") & (df_evento_sin_artista[\"id_productora\"] == 237)]"
   ]
  },
  {
   "cell_type": "code",
   "execution_count": null,
   "id": "a69bff68",
   "metadata": {},
   "outputs": [],
   "source": [
    "def transformar_entradas2(evento, id_productora):\n",
    "    if evento == \"Fourplan Mania\":\n",
    "        return None\n",
    "    else:\n",
    "        return df_evento_sin_artista.index[(df_evento_sin_artista[\"Evento\"] == evento) & (df_evento_sin_artista[\"id_productora\"] == id_productora)].tolist()[0]\n",
    "def get_id_evento_entrada(row):\n",
    "    id_productora = transformar_entradas2(row[\"evento\"], row[\"id_productora\"])\n",
    "    return id_productora"
   ]
  },
  {
   "cell_type": "code",
   "execution_count": null,
   "id": "d5bf796e",
   "metadata": {},
   "outputs": [],
   "source": [
    "df_evento_sin_artista.index[(df_evento_sin_artista[\"Evento\"] == \"Bangerz\") & (df_evento_sin_artista[\"id_productora\"] == 237)].tolist()[0]"
   ]
  },
  {
   "cell_type": "code",
   "execution_count": null,
   "id": "0e3af470",
   "metadata": {},
   "outputs": [],
   "source": [
    "df_entradas_limpio[\"id_evento\"] = df_entradas_limpio.apply(get_id_evento_entrada, axis=1)\n",
    "df_entradas_limpio.head()"
   ]
  },
  {
   "cell_type": "code",
   "execution_count": null,
   "id": "47a033a6",
   "metadata": {},
   "outputs": [],
   "source": [
    "df_entradas_limpio = df_entradas_limpio.drop(columns=['artista', 'evento'])\n",
    "df_entradas_limpio.head()"
   ]
  },
  {
   "cell_type": "code",
   "execution_count": null,
   "id": "f5f3b6fa",
   "metadata": {},
   "outputs": [],
   "source": [
    "df_entradas_limpio.to_csv('Entradas Cortesia_limpio.csv', index = False)"
   ]
  },
  {
   "cell_type": "code",
   "execution_count": null,
   "id": "d78803e6",
   "metadata": {},
   "outputs": [],
   "source": [
    "archivo = 'Hospedajes y traslados.csv'\n",
    "df_hospedaje = pd.read_csv(archivo)\n",
    "df_hospedaje.head()"
   ]
  },
  {
   "cell_type": "code",
   "execution_count": null,
   "id": "5dc2628a",
   "metadata": {},
   "outputs": [],
   "source": [
    "df_hospedaje.value_counts()\n",
    "df_hospedaje_limpio = df_hospedaje.drop_duplicates()\n",
    "df_hospedaje_limpio.value_counts()"
   ]
  },
  {
   "cell_type": "code",
   "execution_count": null,
   "id": "274c24b8",
   "metadata": {},
   "outputs": [],
   "source": [
    "df_hospedaje_limpio.head()"
   ]
  },
  {
   "cell_type": "code",
   "execution_count": null,
   "id": "de0c8401",
   "metadata": {},
   "outputs": [],
   "source": [
    "df_hospedaje_limpio[\"id_artista\"] = df_hospedaje_limpio[\"artista\"].apply(artista_id)"
   ]
  },
  {
   "cell_type": "code",
   "execution_count": null,
   "id": "26bf8d5c",
   "metadata": {},
   "outputs": [],
   "source": [
    "df_hospedaje_limpio = df_hospedaje_limpio.drop(columns = [\"artista\"])\n",
    "df_hospedaje_limpio.head()"
   ]
  },
  {
   "cell_type": "code",
   "execution_count": null,
   "id": "f2a53d9c",
   "metadata": {},
   "outputs": [],
   "source": [
    "df_hospedaje_limpio = df_hospedaje_limpio.rename(columns={\"codigo reserva\": \"codigo_reserva\", \"fecha inicio\": \"fecha_inicio\", \"fecha termino\": \"fecha_termino\", \"nombre hotel\": \"nombre_hotel\", \"tipo traslado\": \"tipo_traslado\", \"aeropuerto salida\": \"aeropuerto_salida\", \"hora salida\": \"hora_salida\", \"aeropuerto llegada\": \"aeropuerto_llegada\", \"hora llegada\": \"hora_llegada\"})\n",
    "df_hospedaje_limpio.head()"
   ]
  },
  {
   "cell_type": "code",
   "execution_count": null,
   "id": "905d4c7e",
   "metadata": {},
   "outputs": [],
   "source": [
    "df_hospedaje_limpio.to_csv('Hospedajes y traslados_limpio.csv', index = False)"
   ]
  },
  {
   "cell_type": "code",
   "execution_count": null,
   "id": "d6df3c48",
   "metadata": {},
   "outputs": [],
   "source": []
  },
  {
   "cell_type": "code",
   "execution_count": null,
   "id": "58270e47",
   "metadata": {},
   "outputs": [],
   "source": []
  }
 ],
 "metadata": {
  "kernelspec": {
   "display_name": "Python 3 (ipykernel)",
   "language": "python",
   "name": "python3"
  },
  "language_info": {
   "codemirror_mode": {
    "name": "ipython",
    "version": 3
   },
   "file_extension": ".py",
   "mimetype": "text/x-python",
   "name": "python",
   "nbconvert_exporter": "python",
   "pygments_lexer": "ipython3",
   "version": "3.8.10"
  }
 },
 "nbformat": 4,
 "nbformat_minor": 5
}
